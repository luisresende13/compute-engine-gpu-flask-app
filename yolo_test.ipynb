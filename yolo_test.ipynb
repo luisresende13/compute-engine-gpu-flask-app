{
 "cells": [
  {
   "cell_type": "code",
   "execution_count": 2,
   "id": "dde4c7d3-884e-46b8-b0ae-34a6e091c40c",
   "metadata": {},
   "outputs": [],
   "source": [
    "import cv2\n",
    "from ultralytics import YOLO\n",
    "\n",
    "# Load the YOLOv8 model\n",
    "model = YOLO('yolov8n.pt')\n",
    "\n",
    "def generate_frames(video_url, use_gpu=False, mode='track'):\n",
    "    cap = cv2.VideoCapture(video_url)\n",
    "    print(f'video_url: {video_url}, use_gpu: {use_gpu}')\n",
    "    while cap.isOpened():\n",
    "        success, frame = cap.read()\n",
    "        if not success:\n",
    "            break\n",
    "\n",
    "        if mode == 'track':\n",
    "            # Run YOLOv8 tracking on the frame, persisting tracks between frames\n",
    "            results = model.track(frame, persist=True)\n",
    "        elif mode == 'detect':\n",
    "            # Run YOLOv8 detection on the frame, persisting tracks between frames\n",
    "            results = model.predict(frame)\n",
    "        \n",
    "        # Visualize the results on the frame\n",
    "        annotated_frame = results[0].plot()\n",
    "        # annotated_frame = frame\n",
    "\n",
    "        # Convert the annotated frame to JPEG format\n",
    "        ret, buffer = cv2.imencode('.jpg', annotated_frame)\n",
    "        frame = buffer.tobytes()\n",
    "\n",
    "        # Yield the frame for streaming\n",
    "        yield (b'--frame\\r\\n'\n",
    "               b'Content-Type: image/jpeg\\r\\n\\r\\n' + frame + b'\\r\\n')\n",
    "\n",
    "    # Release the video capture object\n",
    "    cap.release()"
   ]
  },
  {
   "cell_type": "code",
   "execution_count": 10,
   "id": "5de8b6a9-dfbf-4750-bcb0-3619e14c228e",
   "metadata": {},
   "outputs": [],
   "source": [
    "code = 1\n",
    "video_url = f'https://app.tixxi.rio/outvideo/?KEY=B0914&CODE={code}'\n",
    "use_gpu=False\n",
    "\n",
    "gen = generate_frames(video_url, use_gpu, mode='predict')"
   ]
  },
  {
   "cell_type": "code",
   "execution_count": 11,
   "id": "99fbd392-e656-480f-8640-beabc92eabd5",
   "metadata": {},
   "outputs": [
    {
     "data": {
      "text/plain": [
       "True"
      ]
     },
     "execution_count": 11,
     "metadata": {},
     "output_type": "execute_result"
    }
   ],
   "source": [
    "cap = cv2.VideoCapture(video_url)\n",
    "cap.isOpened()"
   ]
  },
  {
   "cell_type": "code",
   "execution_count": 9,
   "id": "c6ffd0e6-c250-423b-8f22-e1c92f226e46",
   "metadata": {},
   "outputs": [
    {
     "data": {
      "text/plain": [
       "'https://app.tixxi.rio/outvideo?KEY=B0914&CODE=1'"
      ]
     },
     "execution_count": 9,
     "metadata": {},
     "output_type": "execute_result"
    }
   ],
   "source": [
    "video_url"
   ]
  }
 ],
 "metadata": {
  "kernelspec": {
   "display_name": "Python 3 (ipykernel)",
   "language": "python",
   "name": "python3"
  },
  "language_info": {
   "codemirror_mode": {
    "name": "ipython",
    "version": 3
   },
   "file_extension": ".py",
   "mimetype": "text/x-python",
   "name": "python",
   "nbconvert_exporter": "python",
   "pygments_lexer": "ipython3",
   "version": "3.11.3"
  }
 },
 "nbformat": 4,
 "nbformat_minor": 5
}
